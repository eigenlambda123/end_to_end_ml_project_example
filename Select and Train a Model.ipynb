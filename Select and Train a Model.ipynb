{
 "cells": [
  {
   "cell_type": "markdown",
   "id": "e8d3b3d8",
   "metadata": {},
   "source": [
    "# Housing Model Training Pipeline\n",
    "This notebook demonstrates a complete machine learning pipeline for the California housing dataset, including preprocessing, model training, and evaluation."
   ]
  },
  {
   "cell_type": "markdown",
   "id": "import-libraries",
   "metadata": {},
   "source": [
    "## 1. Import Libraries\n",
    "Import all necessary libraries for data processing, transformation, modeling, and evaluation."
   ]
  },
  {
   "cell_type": "code",
   "execution_count": 3,
   "id": "library-imports",
   "metadata": {},
   "outputs": [],
   "source": [
    "from pathlib import Path\n",
    "import pandas as pd\n",
    "import tarfile\n",
    "import urllib.request\n",
    "import numpy as np\n",
    "from sklearn.model_selection import train_test_split\n",
    "from sklearn.pipeline import make_pipeline\n",
    "from sklearn.impute import SimpleImputer\n",
    "from sklearn.preprocessing import FunctionTransformer, StandardScaler, OneHotEncoder\n",
    "from sklearn.compose import ColumnTransformer\n",
    "from sklearn.cluster import KMeans\n",
    "from sklearn.base import BaseEstimator, TransformerMixin\n",
    "from sklearn.linear_model import LinearRegression\n",
    "from sklearn.tree import DecisionTreeRegressor\n",
    "from sklearn.metrics import mean_squared_error\n",
    "import matplotlib.pyplot as plt"
   ]
  },
  {
   "cell_type": "markdown",
   "id": "custom-transformer",
   "metadata": {},
   "source": [
    "## 2. Define Custom Transformer\n",
    "The `ClusterSimilarity` transformer creates geographic cluster features using KMeans clustering."
   ]
  },
  {
   "cell_type": "code",
   "execution_count": 4,
   "id": "cluster-similarity",
   "metadata": {},
   "outputs": [],
   "source": [
    "class ClusterSimilarity(BaseEstimator, TransformerMixin):\n",
    "    \"\"\"\n",
    "    Creates features based on similarity to geographic clusters\n",
    "    \n",
    "    Parameters:\n",
    "    n_clusters : Number of clusters to create\n",
    "    gamma : Controls the influence radius of clusters\n",
    "    random_state : Random seed for reproducibility\n",
    "    \"\"\"\n",
    "    def __init__(self, n_clusters=10, gamma=1.0, random_state=None):\n",
    "        self.n_clusters = n_clusters\n",
    "        self.gamma = gamma\n",
    "        self.random_state = random_state\n",
    "    \n",
    "    def fit(self, X, y=None, sample_weight=None):\n",
    "        if hasattr(X, \"values\"):\n",
    "            X = X.values\n",
    "        self.kmeans_ = KMeans(n_clusters=self.n_clusters, \n",
    "                             random_state=self.random_state)\n",
    "        self.kmeans_.fit(X, sample_weight=sample_weight)\n",
    "        return self\n",
    "    \n",
    "    def transform(self, X):\n",
    "        if hasattr(X, \"values\"):\n",
    "            X = X.values\n",
    "        distances = np.linalg.norm(X[:, np.newaxis] - self.kmeans_.cluster_centers_, \n",
    "                                 axis=2)\n",
    "        return np.exp(-self.gamma * distances ** 2)\n",
    "    \n",
    "    def get_params(self, deep=True):\n",
    "        return {\"n_clusters\": self.n_clusters, \n",
    "                \"gamma\": self.gamma, \n",
    "                \"random_state\": self.random_state}\n",
    "    \n",
    "    def set_params(self, **params):\n",
    "        for param, value in params.items():\n",
    "            setattr(self, param, value)\n",
    "        return self"
   ]
  },
  {
   "cell_type": "markdown",
   "id": "data-loading",
   "metadata": {},
   "source": [
    "## 3. Load and Prepare Data\n",
    "Load the housing dataset and create stratified train/test splits based on income categories."
   ]
  },
  {
   "cell_type": "code",
   "execution_count": 5,
   "id": "load-housing-data",
   "metadata": {},
   "outputs": [],
   "source": [
    "def load_housing_data():\n",
    "    \"\"\"Load California housing dataset from remote URL\"\"\"\n",
    "    tarball_path = Path(\"datasets/housing.tgz\")\n",
    "    if not tarball_path.is_file():\n",
    "        Path(\"datasets\").mkdir(parents=True, exist_ok=True)\n",
    "        url = \"https://github.com/ageron/data/raw/main/housing.tgz\"\n",
    "        urllib.request.urlretrieve(url, tarball_path)\n",
    "        with tarfile.open(tarball_path) as housing_tarball:\n",
    "            housing_tarball.extractall(path=\"datasets\")\n",
    "    return pd.read_csv(Path(\"datasets/housing/housing.csv\"))\n",
    "\n",
    "# Load and prepare data\n",
    "housing = load_housing_data()\n",
    "\n",
    "# Create income categories for stratified sampling\n",
    "housing[\"income_cat\"] = pd.cut(\n",
    "    housing[\"median_income\"],\n",
    "    bins=[0.0, 1.5, 3.0, 4.5, 6.0, np.inf],\n",
    "    labels=[1, 2, 3, 4, 5]\n",
    ")\n",
    "\n",
    "# Split into stratified train/test sets\n",
    "strat_train_set, strat_test_set = train_test_split(\n",
    "    housing,\n",
    "    test_size=0.2,\n",
    "    stratify=housing[\"income_cat\"],\n",
    "    random_state=42\n",
    ")\n",
    "\n",
    "# Prepare training data\n",
    "housing = strat_train_set.drop([\"median_house_value\", \"income_cat\"], axis=1)\n",
    "housing_labels = strat_train_set[\"median_house_value\"].copy()"
   ]
  },
  {
   "cell_type": "markdown",
   "id": "pipeline-definition",
   "metadata": {},
   "source": [
    "## 4. Define Transformation Pipelines\n",
    "Create custom transformation pipelines for different feature types including ratio features, log transformations, and categorical encoding."
   ]
  },
  {
   "cell_type": "code",
   "execution_count": 6,
   "id": "feature-pipelines",
   "metadata": {},
   "outputs": [],
   "source": [
    "# Helper functions for ratio features\n",
    "def column_ratio(X):\n",
    "    \"\"\"Calculate ratio between two columns\"\"\"\n",
    "    return X[:, [0]] / X[:, [1]]\n",
    "\n",
    "def ratio_name(function_transformer, feature_names_in):\n",
    "    \"\"\"Generate feature name for ratio features\"\"\"\n",
    "    return [\"ratio\"]\n",
    "\n",
    "# Pipeline for ratio features\n",
    "def ratio_pipeline():\n",
    "    \"\"\"Pipeline for ratio features: Impute → Calculate ratio → Scale\"\"\"\n",
    "    return make_pipeline(\n",
    "        SimpleImputer(strategy=\"median\"),\n",
    "        FunctionTransformer(column_ratio, feature_names_out=ratio_name),\n",
    "        StandardScaler()\n",
    "    )\n",
    "\n",
    "# Pipeline for log-transformed features\n",
    "log_pipeline = make_pipeline(\n",
    "    SimpleImputer(strategy=\"median\"),\n",
    "    FunctionTransformer(np.log, feature_names_out=\"one-to-one\"),\n",
    "    StandardScaler()\n",
    ")\n",
    "\n",
    "# Pipeline for categorical features\n",
    "cat_pipeline = make_pipeline(\n",
    "    SimpleImputer(strategy=\"most_frequent\"),\n",
    "    OneHotEncoder(handle_unknown=\"ignore\")\n",
    ")\n",
    "\n",
    "# Default pipeline for numeric features\n",
    "default_num_pipeline = make_pipeline(\n",
    "    SimpleImputer(strategy=\"median\"),\n",
    "    StandardScaler()\n",
    ")\n",
    "\n",
    "# Initialize geographic similarity transformer\n",
    "cluster_simil = ClusterSimilarity(n_clusters=10, gamma=1.0, random_state=42)"
   ]
  },
  {
   "cell_type": "markdown",
   "id": "column-transformer",
   "metadata": {},
   "source": [
    "## 5. Create Column Transformer\n",
    "Combine all pipelines into a single preprocessing pipeline using ColumnTransformer."
   ]
  },
  {
   "cell_type": "code",
   "execution_count": 7,
   "id": "preprocessing-pipeline",
   "metadata": {},
   "outputs": [],
   "source": [
    "preprocessing = ColumnTransformer([\n",
    "    # Bedrooms to rooms ratio\n",
    "    (\"bedrooms\", ratio_pipeline(), [\"total_bedrooms\", \"total_rooms\"]),\n",
    "    \n",
    "    # Rooms per household\n",
    "    (\"rooms_per_house\", ratio_pipeline(), [\"total_rooms\", \"households\"]),\n",
    "    \n",
    "    # Population per household\n",
    "    (\"people_per_house\", ratio_pipeline(), [\"population\", \"households\"]),\n",
    "    \n",
    "    # Log-transformed features\n",
    "    (\"log\", log_pipeline, [\"total_bedrooms\", \"total_rooms\", \"population\",\n",
    "                         \"households\", \"median_income\"]),\n",
    "    \n",
    "    # Geographic cluster similarity\n",
    "    (\"geo\", cluster_simil, [\"latitude\", \"longitude\"]),\n",
    "    \n",
    "    # Categorical feature (ocean proximity)\n",
    "    (\"cat\", cat_pipeline, [\"ocean_proximity\"])\n",
    "], \n",
    "# Handle remaining numeric features\n",
    "remainder=default_num_pipeline)"
   ]
  },
  {
   "cell_type": "markdown",
   "id": "apply-preprocessing",
   "metadata": {},
   "source": [
    "## 6. Apply Preprocessing\n",
    "Transform the training data and verify the output feature matrix."
   ]
  },
  {
   "cell_type": "code",
   "execution_count": 8,
   "id": "transform-data",
   "metadata": {},
   "outputs": [
    {
     "name": "stdout",
     "output_type": "stream",
     "text": [
      "Preprocessed data shape: (16512, 24)\n",
      "\n",
      "Expected features breakdown:\n",
      "  - 3 ratio features\n",
      "  - 5 log-transformed features\n",
      "  - 10 geographic similarity features\n",
      "  - 5 one-hot encoded categories\n",
      "  - 1 remaining numeric feature\n",
      "Total: 24 features\n"
     ]
    }
   ],
   "source": [
    "# Apply the full preprocessing pipeline\n",
    "housing_prepared = preprocessing.fit_transform(housing)\n",
    "\n",
    "# Display resulting feature matrix shape\n",
    "print(\"Preprocessed data shape:\", housing_prepared.shape)\n",
    "print(\"\\nExpected features breakdown:\")\n",
    "print(\"  - 3 ratio features\")\n",
    "print(\"  - 5 log-transformed features\")\n",
    "print(\"  - 10 geographic similarity features\")\n",
    "print(\"  - 5 one-hot encoded categories\")\n",
    "print(\"  - 1 remaining numeric feature\")\n",
    "print(\"Total: 24 features\")"
   ]
  },
  {
   "cell_type": "markdown",
   "id": "linear-regression",
   "metadata": {},
   "source": [
    "## 7. Train and Evaluate Linear Regression\n",
    "Train a Linear Regression model and evaluate using Root Mean Squared Error (RMSE)."
   ]
  },
  {
   "cell_type": "code",
   "execution_count": 9,
   "id": "train-linear-regression",
   "metadata": {},
   "outputs": [
    {
     "name": "stdout",
     "output_type": "stream",
     "text": [
      "Linear Regression RMSE: $68,972.89\n"
     ]
    }
   ],
   "source": [
    "# Create pipeline with preprocessing and linear regression\n",
    "lin_reg = make_pipeline(preprocessing, LinearRegression())\n",
    "lin_reg.fit(housing, housing_labels)\n",
    "\n",
    "# Make predictions\n",
    "housing_predictions = lin_reg.predict(housing)\n",
    "\n",
    "# Calculate RMSE\n",
    "lin_mse = mean_squared_error(housing_labels, housing_predictions)\n",
    "lin_rmse = np.sqrt(lin_mse)\n",
    "print(f\"Linear Regression RMSE: ${lin_rmse:,.2f}\")"
   ]
  },
  {
   "cell_type": "markdown",
   "id": "decision-tree",
   "metadata": {},
   "source": [
    "## 8. Train and Evaluate Decision Tree\n",
    "Train a Decision Tree Regressor and compare performance with Linear Regression."
   ]
  },
  {
   "cell_type": "code",
   "execution_count": 10,
   "id": "train-decision-tree",
   "metadata": {},
   "outputs": [
    {
     "name": "stdout",
     "output_type": "stream",
     "text": [
      "Decision Tree RMSE: $0.00\n",
      "\n",
      "Improvement over Linear Regression: 68,972.89\n"
     ]
    }
   ],
   "source": [
    "# Create pipeline with preprocessing and decision tree\n",
    "tree_reg = make_pipeline(preprocessing, DecisionTreeRegressor(random_state=42))\n",
    "tree_reg.fit(housing, housing_labels)\n",
    "\n",
    "# Make predictions\n",
    "housing_predictions = tree_reg.predict(housing)\n",
    "\n",
    "# Calculate RMSE\n",
    "tree_mse = mean_squared_error(housing_labels, housing_predictions)\n",
    "tree_rmse = np.sqrt(tree_mse)\n",
    "print(f\"Decision Tree RMSE: ${tree_rmse:,.2f}\")\n",
    "print(f\"\\nImprovement over Linear Regression: {lin_rmse - tree_rmse:,.2f}\")"
   ]
  },
  {
   "cell_type": "markdown",
   "id": "model-comparison",
   "metadata": {},
   "source": [
    "## 9. Evaluate Decision Tree with Cross-Validation\n",
    "Decision Trees are prone to overfitting. We'll use cross-validation to get a more reliable performance estimate:\n",
    "\n",
    "Explanation:\n",
    "\n",
    "* Uses 10-fold cross-validation to evaluate model performance\n",
    "* Negative RMSE scoring is used because scikit-learn convention is to maximize scores\n",
    "* Results show mean performance and variability across folds\n",
    "* Helps detect overfitting by showing performance consistency"
   ]
  },
  {
   "cell_type": "code",
   "execution_count": 11,
   "id": "visualize-results",
   "metadata": {},
   "outputs": [
    {
     "name": "stdout",
     "output_type": "stream",
     "text": [
      "Decision Tree Cross-Validation RMSE Statistics:\n",
      "count       10.000000\n",
      "mean     66573.734600\n",
      "std       1103.402323\n",
      "min      64607.896046\n",
      "25%      66204.731788\n",
      "50%      66388.272499\n",
      "75%      66826.257468\n",
      "max      68532.210664\n",
      "dtype: float64\n"
     ]
    }
   ],
   "source": [
    "from sklearn.model_selection import cross_val_score\n",
    "\n",
    "# Evaluate Decision Tree with 10-fold cross-validation\n",
    "tree_scores = -cross_val_score(tree_reg, housing, housing_labels,\n",
    "                              scoring=\"neg_root_mean_squared_error\", cv=10)\n",
    "\n",
    "# Display performance metrics\n",
    "tree_rmse_stats = pd.Series(tree_scores).describe()\n",
    "print(\"Decision Tree Cross-Validation RMSE Statistics:\")\n",
    "print(tree_rmse_stats)"
   ]
  },
  {
   "cell_type": "markdown",
   "id": "5e6333da-839c-4448-a55e-0dd9e20173d4",
   "metadata": {},
   "source": [
    "## 10. Train and Evaluate Random Forest Model\n",
    "Random Forests often outperform individual Decision Trees by combining multiple trees:\n",
    "\n",
    "Explanation:\n",
    "\n",
    "* Random Forest builds multiple decision trees and averages their predictions\n",
    "* Handles overfitting better than single Decision Trees\n",
    "* Generally provides higher accuracy and robustness\n",
    "* Cross-validation gives reliable performance estimate"
   ]
  },
  {
   "cell_type": "code",
   "execution_count": 13,
   "id": "9b485f86-3e8a-41b3-b96e-ad330c25fb71",
   "metadata": {},
   "outputs": [
    {
     "name": "stdout",
     "output_type": "stream",
     "text": [
      "\n",
      "Random Forest Cross-Validation RMSE Statistics:\n",
      "count       10.000000\n",
      "mean     47038.092799\n",
      "std       1021.491757\n",
      "min      45495.976649\n",
      "25%      46510.418013\n",
      "50%      47118.719249\n",
      "75%      47480.519175\n",
      "max      49140.832210\n",
      "dtype: float64\n"
     ]
    }
   ],
   "source": [
    "from sklearn.ensemble import RandomForestRegressor\n",
    "\n",
    "# Create pipeline with preprocessing and Random Forest\n",
    "forest_reg = make_pipeline(preprocessing,\n",
    "                          RandomForestRegressor(random_state=42))\n",
    "\n",
    "# Evaluate with cross-validation\n",
    "forest_scores = -cross_val_score(forest_reg, housing, housing_labels,\n",
    "                                scoring=\"neg_root_mean_squared_error\", cv=10)\n",
    "\n",
    "# Display performance metrics\n",
    "forest_rmse_stats = pd.Series(forest_scores).describe()\n",
    "print(\"\\nRandom Forest Cross-Validation RMSE Statistics:\")\n",
    "print(forest_rmse_stats)"
   ]
  },
  {
   "cell_type": "markdown",
   "id": "a1bf0c1e-7cde-463d-8471-de4b44b7362f",
   "metadata": {},
   "source": [
    "## 11. Model Comparison\n",
    "Compare model performance using cross-validation results:"
   ]
  },
  {
   "cell_type": "code",
   "execution_count": 14,
   "id": "9a65f924-c397-446d-af9c-0deafdfa22b0",
   "metadata": {},
   "outputs": [
    {
     "name": "stdout",
     "output_type": "stream",
     "text": [
      "\n",
      "Model Comparison (Mean RMSE):\n",
      "   Linear Regression  Decision Tree  Random Forest\n",
      "0       68972.889108     66573.7346   47038.092799\n"
     ]
    },
    {
     "name": "stderr",
     "output_type": "stream",
     "text": [
      "C:\\Users\\PC\\AppData\\Local\\Temp\\ipykernel_8904\\1591146127.py:13: MatplotlibDeprecationWarning: The 'labels' parameter of boxplot() has been renamed 'tick_labels' since Matplotlib 3.9; support for the old name will be dropped in 3.11.\n",
      "  plt.boxplot([tree_scores, forest_scores], labels=['Decision Tree', 'Random Forest'])\n"
     ]
    },
    {
     "data": {
      "image/png": "[encoded data removed]",
      "text/plain": [
       "<Figure size 1000x600 with 1 Axes>"
      ]
     },
     "metadata": {},
     "output_type": "display_data"
    }
   ],
   "source": [
    "# Create comparison DataFrame\n",
    "model_comparison = pd.DataFrame({\n",
    "    \"Linear Regression\": [lin_rmse],\n",
    "    \"Decision Tree\": [tree_rmse_stats['mean']],\n",
    "    \"Random Forest\": [forest_rmse_stats['mean']]\n",
    "})\n",
    "\n",
    "print(\"\\nModel Comparison (Mean RMSE):\")\n",
    "print(model_comparison)\n",
    "\n",
    "# Visualize cross-validation distributions\n",
    "plt.figure(figsize=(10, 6))\n",
    "plt.boxplot([tree_scores, forest_scores], labels=['Decision Tree', 'Random Forest'])\n",
    "plt.ylabel('RMSE')\n",
    "plt.title('Model Performance Distribution (10-fold CV)')\n",
    "plt.grid(True)\n",
    "plt.show()"
   ]
  }
 ],
 "metadata": {
  "kernelspec": {
   "display_name": "Python 3 (ipykernel)",
   "language": "python",
   "name": "python3"
  },
  "language_info": {
   "codemirror_mode": {
    "name": "ipython",
    "version": 3
   },
   "file_extension": ".py",
   "mimetype": "text/x-python",
   "name": "python",
   "nbconvert_exporter": "python",
   "pygments_lexer": "ipython3",
   "version": "3.12.6"
  }
 },
 "nbformat": 4,
 "nbformat_minor": 5
}
