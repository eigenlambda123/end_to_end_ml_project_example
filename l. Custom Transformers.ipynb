{
 "cells": [
  {
   "cell_type": "markdown",
   "id": "359bc522-66ba-48b4-9a7c-dc1dcbdf23a9",
   "metadata": {},
   "source": [
    "# Different Types Custom Transformers"
   ]
  },
  {
   "cell_type": "markdown",
   "id": "7f4d8158-0acc-432a-a9df-f5aeeff4ed52",
   "metadata": {},
   "source": [
    "---\n",
    "### Option 1: **Stateless Transformation**\n",
    "\n",
    "#### Example: Log Transform\n",
    "\n",
    "* Use when transformation logic doesn’t require training."
   ]
  },
  {
   "cell_type": "code",
   "execution_count": 5,
   "id": "f8874b3a-b4ae-4d3d-bdb8-ba35f65e592e",
   "metadata": {},
   "outputs": [],
   "source": [
    "import numpy as np\n",
    "from sklearn.preprocessing import FunctionTransformer\n",
    "\n",
    "log_transformer = FunctionTransformer(np.log, inverse_func=np.exp)\n",
    "# log_pop = log_transformer.transform(housing[[\"population\"]])"
   ]
  },
  {
   "cell_type": "markdown",
   "id": "c16d97a3-3f84-4bd1-a66f-2d8b2caafeef",
   "metadata": {},
   "source": [
    "---\n",
    "### Option 2: **Trainable Custom Transformer*\n",
    "\n",
    "#### Example: Custom StandardScaler\n",
    "\n",
    "* Use when you need to learn parameters from training data (e.g., mean, std)."
   ]
  },
  {
   "cell_type": "code",
   "execution_count": 6,
   "id": "75d8a5a2-078c-42fc-b8eb-92e4d140cdc8",
   "metadata": {},
   "outputs": [],
   "source": [
    "from sklearn.base import BaseEstimator, TransformerMixin\n",
    "class StandardScalerClone(BaseEstimator, TransformerMixin):\n",
    "    def __init__(self, with_mean=True):\n",
    "        self.with_mean = with_mean\n",
    "    def fit(self, X, y=None):\n",
    "        self.mean_ = X.mean(axis=0)\n",
    "        self.scale_ = X.std(axis=0)\n",
    "        self.n_features_in_ = X.shape[1]\n",
    "        return self\n",
    "    def transform(self, X):\n",
    "        if self.with_mean:\n",
    "            X = X - self.mean_\n",
    "        return X / self.scale_"
   ]
  },
  {
   "cell_type": "markdown",
   "id": "f6209b8d-0302-4a5d-8464-d0b0345f2edf",
   "metadata": {},
   "source": [
    "---\n",
    "### Advanced Example: Cluster-Based Similarity"
   ]
  },
  {
   "cell_type": "code",
   "execution_count": 7,
   "id": "2e8f76f0-8ed1-459f-9005-1ef32aead77b",
   "metadata": {},
   "outputs": [],
   "source": [
    "class ClusterSimilarity(BaseEstimator, TransformerMixin):\n",
    "    def __init__(self, n_clusters=10, gamma=1.0, random_state=None):\n",
    "        ...\n",
    "    def fit(self, X, y=None, sample_weight=None):\n",
    "        ...\n",
    "    def transform(self, X):\n",
    "        return rbf_kernel(X, self.kmeans_.cluster_centers_, gamma=self.gamma)"
   ]
  }
 ],
 "metadata": {
  "kernelspec": {
   "display_name": "Python 3 (ipykernel)",
   "language": "python",
   "name": "python3"
  },
  "language_info": {
   "codemirror_mode": {
    "name": "ipython",
    "version": 3
   },
   "file_extension": ".py",
   "mimetype": "text/x-python",
   "name": "python",
   "nbconvert_exporter": "python",
   "pygments_lexer": "ipython3",
   "version": "3.12.6"
  }
 },
 "nbformat": 4,
 "nbformat_minor": 5
}
