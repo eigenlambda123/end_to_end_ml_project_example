{
 "cells": [
  {
   "cell_type": "code",
   "execution_count": 3,
   "id": "742c40db-10e1-4db9-bf01-d92d0cd855d5",
   "metadata": {},
   "outputs": [],
   "source": [
    "from pathlib import Path\n",
    "import pandas as pd\n",
    "import tarfile\n",
    "import urllib.request\n",
    "import numpy as np\n",
    "\n",
    "def load_housing_data():\n",
    "    tarball_path = Path(\"datasets/housing.tgz\")  # Path to the compressed dataset\n",
    "\n",
    "    if not tarball_path.is_file():  # If the file doesn't exist locally\n",
    "        Path(\"datasets\").mkdir(parents=True, exist_ok=True)  # Create the 'datasets' directory if needed\n",
    "\n",
    "        url = \"https://github.com/ageron/data/raw/main/housing.tgz\"  # URL to download the dataset\n",
    "        urllib.request.urlretrieve(url, tarball_path)  # Download the .tgz file from the URL and save it locally\n",
    "\n",
    "        with tarfile.open(tarball_path) as housing_tarball:  # Open the .tgz file as a tar archive\n",
    "            housing_tarball.extractall(path=\"datasets\")  # Extract all contents into the 'datasets' directory\n",
    "\n",
    "    return pd.read_csv(Path(\"datasets/housing/housing.csv\"))  # Load the CSV data into a DataFrame and return it\n",
    "\n",
    "housing = load_housing_data()"
   ]
  },
  {
   "cell_type": "code",
   "execution_count": 4,
   "id": "fc138d5d-b4ff-4d45-b58e-3d7539699355",
   "metadata": {},
   "outputs": [],
   "source": [
    "housing[\"income_cat\"] = pd.cut(\n",
    "    housing[\"median_income\"],\n",
    "    bins=[0.0, 1.5, 3.0, 4.5, 6.0, np.inf],\n",
    "    labels=[1, 2, 3, 4, 5]\n",
    ")\n",
    "\n",
    "\n",
    "from sklearn.model_selection import train_test_split\n",
    "\n",
    "strat_train_set, strat_test_set = train_test_split(\n",
    "    housing,\n",
    "    test_size=0.2,\n",
    "    stratify=housing[\"income_cat\"],\n",
    "    random_state=42\n",
    ")\n",
    "\n",
    "housing = strat_train_set.copy()"
   ]
  },
  {
   "cell_type": "markdown",
   "id": "8bb63b36-e352-4032-a988-752f8aed04e8",
   "metadata": {},
   "source": [
    "### Different Combinations"
   ]
  },
  {
   "cell_type": "code",
   "execution_count": 5,
   "id": "5dee2927-6b9f-4b60-aa6f-0b603d58dc34",
   "metadata": {},
   "outputs": [],
   "source": [
    "housing[\"rooms_per_house\"] = housing[\"total_rooms\"] / housing[\"households\"]\n",
    "housing[\"bedrooms_ratio\"] = housing[\"total_bedrooms\"] / housing[\"total_rooms\"]\n",
    "housing[\"people_per_house\"] = housing[\"population\"] / housing[\"households\"]"
   ]
  },
  {
   "cell_type": "code",
   "execution_count": 7,
   "id": "2da1f66d-f5b3-4b24-9efe-9ab5ed00648d",
   "metadata": {},
   "outputs": [
    {
     "data": {
      "text/plain": [
       "median_house_value    1.000000\n",
       "median_income         0.688380\n",
       "rooms_per_house       0.143663\n",
       "total_rooms           0.137455\n",
       "housing_median_age    0.102175\n",
       "households            0.071426\n",
       "total_bedrooms        0.054635\n",
       "population           -0.020153\n",
       "people_per_house     -0.038224\n",
       "longitude            -0.050859\n",
       "latitude             -0.139584\n",
       "bedrooms_ratio       -0.256397\n",
       "Name: median_house_value, dtype: float64"
      ]
     },
     "execution_count": 7,
     "metadata": {},
     "output_type": "execute_result"
    }
   ],
   "source": [
    "corr_matrix = housing.select_dtypes(include=['number']).corr()\n",
    "corr_matrix[\"median_house_value\"].sort_values(ascending=False)"
   ]
  }
 ],
 "metadata": {
  "kernelspec": {
   "display_name": "Python 3 (ipykernel)",
   "language": "python",
   "name": "python3"
  },
  "language_info": {
   "codemirror_mode": {
    "name": "ipython",
    "version": 3
   },
   "file_extension": ".py",
   "mimetype": "text/x-python",
   "name": "python",
   "nbconvert_exporter": "python",
   "pygments_lexer": "ipython3",
   "version": "3.12.6"
  }
 },
 "nbformat": 4,
 "nbformat_minor": 5
}
