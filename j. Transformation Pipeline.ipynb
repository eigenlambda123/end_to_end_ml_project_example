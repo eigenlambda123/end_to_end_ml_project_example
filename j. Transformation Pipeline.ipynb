{
 "cells": [
  {
   "cell_type": "markdown",
   "id": "5dbc9f7a-b8f1-41c2-a123-90cc60453552",
   "metadata": {},
   "source": [
    "# Custom Ratio Transformation Function "
   ]
  },
  {
   "cell_type": "markdown",
   "id": "ff08ca97-2a72-4880-ab01-140ed022b9db",
   "metadata": {},
   "source": [
    "### Ratio Transformer\n",
    "* This function takes two columns (as a 2D array) and returns their ratio: column 0 divided by column 1.\n",
    "It's used to compute features like `bedrooms / rooms`, `rooms / households`, etc."
   ]
  },
  {
   "cell_type": "code",
   "execution_count": 1,
   "id": "b721407b-a60f-4f6f-8799-d40d32a0889d",
   "metadata": {},
   "outputs": [],
   "source": [
    "def column_ratio(X):\n",
    "    # Takes a 2D array and returns the element-wise ratio of column 0 over column 1\n",
    "    return X[:, [0]] / X[:, [1]]"
   ]
  },
  {
   "cell_type": "markdown",
   "id": "3d5c202c-5002-44ad-833a-1392b4a4e778",
   "metadata": {},
   "source": [
    "### Ratio Feature Name Function\n",
    "* Provides a name (\"ratio\") for the output feature of the `FunctionTransformer`."
   ]
  },
  {
   "cell_type": "code",
   "execution_count": null,
   "id": "77c7dac4-31f2-4096-a76d-b8e61e34b39c",
   "metadata": {},
   "outputs": [],
   "source": [
    "def ratio_name(function_transformer, feature_names_in):\n",
    "    # Sets a custom output name for the ratio feature\n",
    "    return [\"ratio\"]"
   ]
  },
  {
   "cell_type": "markdown",
   "id": "4aeaea0c-6a9c-4dd0-b7c5-5b39e2b2c5be",
   "metadata": {},
   "source": [
    "---\n",
    "# Pipeline for Ratio Features"
   ]
  },
  {
   "cell_type": "markdown",
   "id": "f314a74a-970b-4e30-b0d9-de0f8405f681",
   "metadata": {},
   "source": [
    "### Ratio Pipeline\n",
    "Applies the following steps:\n",
    "1. Impute missing values with the median.\n",
    "2. Compute the ratio.\n",
    "3. Standardize the result."
   ]
  },
  {
   "cell_type": "code",
   "execution_count": null,
   "id": "f55caf1c-0a6d-40d3-b2fb-20f43dc3cd29",
   "metadata": {},
   "outputs": [],
   "source": [
    "def ratio_pipeline():\n",
    "    return make_pipeline(\n",
    "        SimpleImputer(strategy=\"median\"), # Handle missing values\n",
    "        FunctionTransformer(column_ratio, feature_names_out=ratio_name), # Compute the ratio\n",
    "        StandardScaler() # Standardize the result\n",
    "    )"
   ]
  },
  {
   "cell_type": "markdown",
   "id": "978c457f-d019-4dad-be95-2fc9f47c8de8",
   "metadata": {},
   "source": [
    "---\n",
    "# Pipeline for Log-Transformed Features"
   ]
  },
  {
   "cell_type": "markdown",
   "id": "3ae7bdcd-6fa2-452a-a511-45e549c240bb",
   "metadata": {},
   "source": [
    "### Log Pipeline\n",
    "Applies the following to skewed numerical features:\n",
    "1. Impute missing values with the median.\n",
    "2. Apply log transformation to reduce skew.\n",
    "3. Standardize the result."
   ]
  },
  {
   "cell_type": "code",
   "execution_count": null,
   "id": "e0f710c0-7306-4c0e-934f-0a7d401a19a5",
   "metadata": {},
   "outputs": [],
   "source": [
    "import numpy as np\n",
    "\n",
    "log_pipeline = make_pipeline(\n",
    "    SimpleImputer(strategy=\"median\"), # Handle missing values\n",
    "    FunctionTransformer(np.log, feature_names_out=\"one-to-one\"), # Apply log transform\n",
    "    StandardScaler()# Standardize the result\n",
    ")"
   ]
  },
  {
   "cell_type": "markdown",
   "id": "a91404df-ee0f-484c-bcea-2180609b84b2",
   "metadata": {},
   "source": [
    "---\n",
    "# Cluster Similarity Transformer"
   ]
  },
  {
   "cell_type": "markdown",
   "id": "08492a44-463c-4980-aae9-465aa4f57177",
   "metadata": {},
   "source": [
    "### ClusterSimilarity Transformer\n",
    "Custom transformer that:\n",
    "* Uses KMeans to find 10 geographic clusters.\n",
    "* Applies Gaussian RBF kernel to measure how close each row is to each cluster center.\n"
   ]
  },
  {
   "cell_type": "markdown",
   "id": "93ce290f-86f8-46aa-ac06-8493fc2f6de4",
   "metadata": {},
   "source": [
    "cluster_simil = ClusterSimilarity(\n",
    "    n_clusters=10, # Find 10 clusters using KMeans\n",
    "    gamma=1.0, # RBF kernel width (controls smoothness of similarity)\n",
    "    random_state=42 # Ensures reproducibility\n",
    ")"
   ]
  },
  {
   "cell_type": "markdown",
   "id": "1f2cd8d5-640f-4030-9681-c7848baaf2f5",
   "metadata": {},
   "source": [
    "---\n",
    "# Default Numeric Pipeline for Unprocessed Columns"
   ]
  },
  {
   "cell_type": "markdown",
   "id": "86820353-cf9e-439c-a40c-26c6c38fa48d",
   "metadata": {},
   "source": [
    "### Default Numeric Pipeline\n",
    "Handles numeric columns not covered by earlier transformers.\n",
    "1. Impute with median.\n",
    "2. Standardize.\n"
   ]
  },
  {
   "cell_type": "code",
   "execution_count": null,
   "id": "6a160126-8156-4a8f-86a3-ecf29d63b083",
   "metadata": {},
   "outputs": [],
   "source": [
    "default_num_pipeline = make_pipeline(\n",
    "    SimpleImputer(strategy=\"median\"), # Handle missing values\n",
    "    StandardScaler() # Standardize features\n",
    ")"
   ]
  },
  {
   "cell_type": "markdown",
   "id": "53a981ac-86e7-4b7b-8b3b-bcee228ad0a9",
   "metadata": {},
   "source": [
    "---\n",
    "# Categorical Pipeline"
   ]
  },
  {
   "cell_type": "markdown",
   "id": "e6a173ff-7433-4d2d-814f-a73776f7bf47",
   "metadata": {},
   "source": [
    "### Categorical Pipeline\n",
    "1. Impute missing categories using the most frequent value.\n",
    "2. One-hot encode the categorical column."
   ]
  },
  {
   "cell_type": "code",
   "execution_count": null,
   "id": "3a8d140d-a829-4388-b501-0e53099c094e",
   "metadata": {},
   "outputs": [],
   "source": [
    "from sklearn.preprocessing import OneHotEncoder\n",
    "\n",
    "cat_pipeline = make_pipeline(\n",
    "    SimpleImputer(strategy=\"most_frequent\"),\n",
    "    OneHotEncoder(handle_unknown=\"ignore\")\n",
    ")"
   ]
  },
  {
   "cell_type": "markdown",
   "id": "37231d4f-2985-41c1-a25b-fc0aab23666c",
   "metadata": {},
   "source": [
    "---\n",
    "# Final ColumnTransformer to Apply All Steps"
   ]
  },
  {
   "cell_type": "markdown",
   "id": "3e32a3b7-c5b9-4460-b92e-96038d534bca",
   "metadata": {},
   "source": [
    "### Final Preprocessing Pipeline\n",
    "Combines all previous pipelines and applies them to their corresponding columns.\n",
    "\n",
    "Transformations:\n",
    "- Bedrooms Ratio: total_bedrooms / total_rooms\n",
    "- Rooms per House: total_rooms / households\n",
    "- People per House: population / households\n",
    "- Log Transform: skewed features\n",
    "- Cluster Similarity: latitude + longitude\n",
    "- Categorical Pipeline: ocean_proximity\n",
    "- Remainder: housing_median_age (default processing)"
   ]
  },
  {
   "cell_type": "code",
   "execution_count": null,
   "id": "fb48f70d-1266-43f6-943f-4a810e3e8ea5",
   "metadata": {},
   "outputs": [],
   "source": [
    "preprocessing = ColumnTransformer([\n",
    "    # Compute bedrooms/rooms ratio and scale\n",
    "    (\"bedrooms\", ratio_pipeline(), [\"total_bedrooms\", \"total_rooms\"]),\n",
    "\n",
    "    # Compute rooms/households ratio and scale\n",
    "    (\"rooms_per_house\", ratio_pipeline(), [\"total_rooms\", \"households\"]),\n",
    "\n",
    "    # Compute population/households ratio and scale\n",
    "    (\"people_per_house\", ratio_pipeline(), [\"population\", \"households\"]),\n",
    "\n",
    "    # Apply log transform + scale to skewed features\n",
    "    (\"log\", log_pipeline, [\n",
    "        \"total_bedrooms\", \"total_rooms\", \"population\",\n",
    "        \"households\", \"median_income\"\n",
    "    ]),\n",
    "\n",
    "    # Generate 10 cluster similarity features from latitude and longitude\n",
    "    (\"geo\", cluster_simil, [\"latitude\", \"longitude\"]),\n",
    "\n",
    "    # Handle categorical columns: impute + one-hot encode\n",
    "    (\"cat\", cat_pipeline, make_column_selector(dtype_include=object)),\n",
    "\n",
    "], remainder=default_num_pipeline)  # Apply default pipeline to remaining feature: housing_median_age"
   ]
  }
 ],
 "metadata": {
  "kernelspec": {
   "display_name": "Python 3 (ipykernel)",
   "language": "python",
   "name": "python3"
  },
  "language_info": {
   "codemirror_mode": {
    "name": "ipython",
    "version": 3
   },
   "file_extension": ".py",
   "mimetype": "text/x-python",
   "name": "python",
   "nbconvert_exporter": "python",
   "pygments_lexer": "ipython3",
   "version": "3.12.6"
  }
 },
 "nbformat": 4,
 "nbformat_minor": 5
}
